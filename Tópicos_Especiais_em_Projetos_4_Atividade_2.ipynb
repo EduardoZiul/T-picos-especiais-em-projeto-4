{
  "nbformat": 4,
  "nbformat_minor": 0,
  "metadata": {
    "colab": {
      "provenance": [],
      "authorship_tag": "ABX9TyOIMjYIIzzQVSaxRQJs6w/t",
      "include_colab_link": true
    },
    "kernelspec": {
      "name": "python3",
      "display_name": "Python 3"
    },
    "language_info": {
      "name": "python"
    }
  },
  "cells": [
    {
      "cell_type": "markdown",
      "metadata": {
        "id": "view-in-github",
        "colab_type": "text"
      },
      "source": [
        "<a href=\"https://colab.research.google.com/github/EduardoZiul/T-picos-especiais-em-projeto-4/blob/main/T%C3%B3picos_Especiais_em_Projetos_4_Atividade_2.ipynb\" target=\"_parent\"><img src=\"https://colab.research.google.com/assets/colab-badge.svg\" alt=\"Open In Colab\"/></a>"
      ]
    },
    {
      "cell_type": "code",
      "execution_count": null,
      "metadata": {
        "id": "vEHJmqaFhpzG"
      },
      "outputs": [],
      "source": []
    }
  ]
}