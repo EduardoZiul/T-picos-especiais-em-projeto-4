{
  "nbformat": 4,
  "nbformat_minor": 0,
  "metadata": {
    "colab": {
      "provenance": [],
      "authorship_tag": "ABX9TyNziOia5HPJiCGS4rXZ2xrA",
      "include_colab_link": true
    },
    "kernelspec": {
      "name": "python3",
      "display_name": "Python 3"
    },
    "language_info": {
      "name": "python"
    }
  },
  "cells": [
    {
      "cell_type": "markdown",
      "metadata": {
        "id": "view-in-github",
        "colab_type": "text"
      },
      "source": [
        "<a href=\"https://colab.research.google.com/github/EduardoZiul/T-picos-especiais-em-projeto-4/blob/main/Atividade_1_Topicos.ipynb\" target=\"_parent\"><img src=\"https://colab.research.google.com/assets/colab-badge.svg\" alt=\"Open In Colab\"/></a>"
      ]
    },
    {
      "cell_type": "code",
      "execution_count": null,
      "metadata": {
        "id": "3Pr1ZT3O5kNg"
      },
      "outputs": [],
      "source": [
        "# Exemplo de comentário de uma linha\n",
        "\n",
        "\"\"\"\n",
        "Exemplo de comentário\n",
        "de várias linhas\n",
        "\"\"\""
      ]
    },
    {
      "cell_type": "code",
      "source": [
        "if 5 > 2:\n",
        "    print(\"5 é maior que 2\")  # Identação"
      ],
      "metadata": {
        "id": "7LjQWQrO53t-"
      },
      "execution_count": null,
      "outputs": []
    },
    {
      "cell_type": "code",
      "source": [
        "# Inteiros e floats\n",
        "x = 10\n",
        "y = 3.14\n",
        "\n",
        "# Complexos\n",
        "z = 2 + 3j\n",
        "\n",
        "# Strings\n",
        "nome = \"Python\"\n",
        "\n",
        "# Booleanos\n",
        "ativo = True"
      ],
      "metadata": {
        "id": "cSeyFUgL6l26"
      },
      "execution_count": null,
      "outputs": []
    },
    {
      "cell_type": "code",
      "source": [
        "lista = [1, 2, 3, \"Python\"]\n",
        "lista.append(4)  # Adiciona elemento\n",
        "print(lista[0])  # Acesso por índice"
      ],
      "metadata": {
        "id": "bzLr8CsO6uSd"
      },
      "execution_count": null,
      "outputs": []
    },
    {
      "cell_type": "code",
      "source": [
        "tupla = (1, 2, 3)\n",
        "print(tupla[1])  # 2"
      ],
      "metadata": {
        "id": "XES_Iw-B6u9b"
      },
      "execution_count": null,
      "outputs": []
    },
    {
      "cell_type": "code",
      "source": [
        "conjunto = {1, 2, 3}\n",
        "conjunto.add(4)  # Adiciona elemento"
      ],
      "metadata": {
        "id": "wxFmxbyP66KY"
      },
      "execution_count": null,
      "outputs": []
    },
    {
      "cell_type": "code",
      "source": [
        "dicionario = {\"nome\": \"João\", \"idade\": 25}\n",
        "print(dicionario[\"nome\"])  # João"
      ],
      "metadata": {
        "id": "wJQvHLFg664G"
      },
      "execution_count": null,
      "outputs": []
    },
    {
      "cell_type": "code",
      "source": [
        "idade = 18\n",
        "if idade < 18:\n",
        "    print(\"Menor de idade\")\n",
        "elif idade == 18:\n",
        "    print(\"Tem 18 anos\")\n",
        "else:\n",
        "    print(\"Maior de idade\")"
      ],
      "metadata": {
        "id": "iHw5Ks-I7KCR"
      },
      "execution_count": null,
      "outputs": []
    },
    {
      "cell_type": "code",
      "source": [
        "# Loop for\n",
        "for i in range(3):\n",
        "    print(i)  # 0, 1, 2\n",
        "\n",
        "# Loop while\n",
        "contador = 0\n",
        "while contador < 3:\n",
        "    print(contador)\n",
        "    contador += 1"
      ],
      "metadata": {
        "id": "xidsVeAX7LX6"
      },
      "execution_count": null,
      "outputs": []
    },
    {
      "cell_type": "code",
      "source": [
        "def soma(a, b):\n",
        "    return a + b\n",
        "\n",
        "print(soma(2, 3))  # 5"
      ],
      "metadata": {
        "id": "zRxOMzN37NvF"
      },
      "execution_count": null,
      "outputs": []
    },
    {
      "cell_type": "code",
      "source": [
        "quadrado = lambda x: x ** 2\n",
        "print(quadrado(4))  # 16"
      ],
      "metadata": {
        "id": "23PFamw27QKz"
      },
      "execution_count": null,
      "outputs": []
    },
    {
      "cell_type": "code",
      "source": [
        "with open(\"arquivo.txt\", \"r\") as file:\n",
        "    conteudo = file.read()\n",
        "    print(conteudo)"
      ],
      "metadata": {
        "id": "mG-z481W7SOy"
      },
      "execution_count": null,
      "outputs": []
    },
    {
      "cell_type": "code",
      "source": [
        "with open(\"saida.txt\", \"w\") as file:\n",
        "    file.write(\"Olá, Python!\")"
      ],
      "metadata": {
        "id": "da-A5zIl7Tes"
      },
      "execution_count": null,
      "outputs": []
    },
    {
      "cell_type": "code",
      "source": [
        "import math\n",
        "print(math.sqrt(16))  # 4.0\n",
        "\n",
        "from random import randint\n",
        "print(randint(1, 10))  # Número aleatório entre 1 e 10"
      ],
      "metadata": {
        "id": "TJOEiyHF7VDQ"
      },
      "execution_count": null,
      "outputs": []
    },
    {
      "cell_type": "code",
      "source": [
        "try:\n",
        "    resultado = 10 / 0\n",
        "except ZeroDivisionError:\n",
        "    print(\"Divisão por zero não permitida!\")\n",
        "finally:\n",
        "    print(\"Fim do bloco try-except\")"
      ],
      "metadata": {
        "id": "acO6qblY7WXP"
      },
      "execution_count": null,
      "outputs": []
    }
  ]
}